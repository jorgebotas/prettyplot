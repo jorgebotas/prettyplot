{
 "cells": [
  {
   "cell_type": "markdown",
   "metadata": {},
   "source": [
    "# PrettyPlot Examples\n",
    "\n",
    "This notebook demonstrates the various plotting functions available in the PrettyPlot library with multiple examples for each function.\n",
    "\n",
    "## Setup"
   ]
  },
  {
   "cell_type": "code",
   "execution_count": null,
   "metadata": {},
   "outputs": [],
   "source": [
    "import prettyplot as pp\n",
    "import pandas as pd\n",
    "import numpy as np\n",
    "import matplotlib.pyplot as plt\n",
    "\n",
    "# Set publication style globally\n",
    "pp.set_publication_style()\n",
    "\n",
    "# For inline display in Jupyter\n",
    "%matplotlib inline"
   ]
  },
  {
   "cell_type": "markdown",
   "metadata": {},
   "source": [
    "---\n",
    "\n",
    "## 1. Bar Plots\n",
    "\n",
    "The `barplot()` function creates publication-ready bar plots with optional grouping, error bars, and hatch patterns."
   ]
  },
  {
   "cell_type": "markdown",
   "metadata": {},
   "source": [
    "### Example 1.1: Simple Bar Plot"
   ]
  },
  {
   "cell_type": "code",
   "execution_count": null,
   "metadata": {},
   "outputs": [],
   "source": [
    "# Create sample data\n",
    "data = pd.DataFrame({\n",
    "    'category': ['A', 'B', 'C', 'D'],\n",
    "    'value': [23, 45, 38, 52]\n",
    "})\n",
    "\n",
    "# Create simple bar plot\n",
    "fig, ax = pp.barplot(\n",
    "    data=data,\n",
    "    x='category',\n",
    "    y='value',\n",
    "    title='Simple Bar Plot',\n",
    "    xlabel='Category',\n",
    "    ylabel='Value',\n",
    "    palette='pastel_categorical'\n",
    ")\n",
    "\n",
    "plt.show()"
   ]
  },
  {
   "cell_type": "markdown",
   "metadata": {},
   "source": [
    "### Example 1.2: Bar Plot with Multiple Measurements (Error Bars)"
   ]
  },
  {
   "cell_type": "code",
   "execution_count": null,
   "metadata": {},
   "outputs": [],
   "source": [
    "# Create data with multiple measurements per category\n",
    "np.random.seed(42)\n",
    "data_with_error = pd.DataFrame({\n",
    "    'category': np.repeat(['Control', 'Treatment A', 'Treatment B'], 10),\n",
    "    'measurement': np.concatenate([\n",
    "        np.random.normal(100, 15, 10),\n",
    "        np.random.normal(120, 12, 10),\n",
    "        np.random.normal(135, 18, 10)\n",
    "    ])\n",
    "})\n",
    "\n",
    "# Create bar plot with error bars (standard error)\n",
    "fig, ax = pp.barplot(\n",
    "    data=data_with_error,\n",
    "    x='category',\n",
    "    y='measurement',\n",
    "    title='Bar Plot with Error Bars',\n",
    "    xlabel='Treatment Group',\n",
    "    ylabel='Measurement (a.u.)',\n",
    "    errorbar='se',  # standard error\n",
    "    capsize=0.1,\n",
    "    palette='pastel_categorical'\n",
    ")\n",
    "\n",
    "plt.show()"
   ]
  },
  {
   "cell_type": "markdown",
   "metadata": {},
   "source": [
    "### Example 1.3: Grouped Bar Plot with Hue"
   ]
  },
  {
   "cell_type": "code",
   "execution_count": null,
   "metadata": {},
   "outputs": [],
   "source": [
    "# Create grouped data\n",
    "np.random.seed(123)\n",
    "grouped_data = pd.DataFrame({\n",
    "    'time': np.repeat(['Day 1', 'Day 2', 'Day 3'], 20),\n",
    "    'group': np.tile(np.repeat(['Control', 'Treated'], 10), 3),\n",
    "    'response': np.concatenate([\n",
    "        # Day 1\n",
    "        np.random.normal(50, 10, 10),  # Control\n",
    "        np.random.normal(55, 10, 10),  # Treated\n",
    "        # Day 2\n",
    "        np.random.normal(52, 10, 10),  # Control\n",
    "        np.random.normal(70, 12, 10),  # Treated\n",
    "        # Day 3\n",
    "        np.random.normal(54, 10, 10),  # Control\n",
    "        np.random.normal(85, 15, 10),  # Treated\n",
    "    ])\n",
    "})\n",
    "\n",
    "# Create grouped bar plot\n",
    "fig, ax = pp.barplot(\n",
    "    data=grouped_data,\n",
    "    x='time',\n",
    "    y='response',\n",
    "    hue='group',\n",
    "    title='Time Course Experiment',\n",
    "    xlabel='Time Point',\n",
    "    ylabel='Response',\n",
    "    errorbar='se',\n",
    "    capsize=0.1,\n",
    "    palette={'Control': '#8E8EC1', 'Treated': '#75B375'}\n",
    ")\n",
    "\n",
    "plt.show()"
   ]
  },
  {
   "cell_type": "markdown",
   "metadata": {},
   "source": [
    "### Example 1.4: Split Bar Plot with Hatch Patterns"
   ]
  },
  {
   "cell_type": "code",
   "execution_count": null,
   "metadata": {},
   "outputs": [],
   "source": [
    "# Create data for split bars\n",
    "np.random.seed(456)\n",
    "split_data = pd.DataFrame({\n",
    "    'condition': np.repeat(['Low', 'Medium', 'High'], 30),\n",
    "    'treatment': np.tile(np.repeat(['Placebo', 'Drug A', 'Drug B'], 10), 3),\n",
    "    'efficacy': np.concatenate([\n",
    "        # Low\n",
    "        np.random.normal(30, 5, 10),  # Placebo\n",
    "        np.random.normal(45, 6, 10),  # Drug A\n",
    "        np.random.normal(50, 7, 10),  # Drug B\n",
    "        # Medium\n",
    "        np.random.normal(35, 5, 10),  # Placebo\n",
    "        np.random.normal(60, 8, 10),  # Drug A\n",
    "        np.random.normal(68, 9, 10),  # Drug B\n",
    "        # High\n",
    "        np.random.normal(38, 5, 10),  # Placebo\n",
    "        np.random.normal(75, 10, 10), # Drug A\n",
    "        np.random.normal(85, 12, 10), # Drug B\n",
    "    ])\n",
    "})\n",
    "\n",
    "# Create split bar plot with hatch patterns\n",
    "fig, ax = pp.barplot(\n",
    "    data=split_data,\n",
    "    x='condition',\n",
    "    y='efficacy',\n",
    "    hue='condition',\n",
    "    split='treatment',\n",
    "    title='Treatment Efficacy by Condition',\n",
    "    xlabel='Condition',\n",
    "    ylabel='Efficacy Score',\n",
    "    errorbar='se',\n",
    "    capsize=0.1,\n",
    "    hatch_mapping={'Placebo': '', 'Drug A': '///', 'Drug B': '\\\\\\\\\\\\'},\n",
    "    palette={'Low': '#FFB6B9', 'Medium': '#FEC8D8', 'High': '#957DAD'},\n",
    "    figsize=(8, 5)\n",
    ")\n",
    "\n",
    "plt.show()"
   ]
  },
  {
   "cell_type": "markdown",
   "metadata": {},
   "source": [
    "### Example 1.5: Custom Ordering and Alpha"
   ]
  },
  {
   "cell_type": "code",
   "execution_count": null,
   "metadata": {},
   "outputs": [],
   "source": [
    "# Create data\n",
    "np.random.seed(789)\n",
    "custom_data = pd.DataFrame({\n",
    "    'stage': np.repeat(['Stage III', 'Stage I', 'Stage IV', 'Stage II'], 15),\n",
    "    'score': np.concatenate([\n",
    "        np.random.normal(65, 10, 15),  # Stage III\n",
    "        np.random.normal(40, 8, 15),   # Stage I\n",
    "        np.random.normal(85, 12, 15),  # Stage IV\n",
    "        np.random.normal(52, 9, 15),   # Stage II\n",
    "    ])\n",
    "})\n",
    "\n",
    "# Create bar plot with custom order and higher alpha (more opaque)\n",
    "fig, ax = pp.barplot(\n",
    "    data=custom_data,\n",
    "    x='stage',\n",
    "    y='score',\n",
    "    order=['Stage I', 'Stage II', 'Stage III', 'Stage IV'],  # Custom order\n",
    "    title='Disease Progression by Stage',\n",
    "    xlabel='Disease Stage',\n",
    "    ylabel='Disease Score',\n",
    "    errorbar='sd',  # standard deviation\n",
    "    capsize=0.15,\n",
    "    alpha=0.3,  # More opaque\n",
    "    linewidth=2.5,\n",
    "    palette='pastel_categorical'\n",
    ")\n",
    "\n",
    "plt.show()"
   ]
  },
  {
   "cell_type": "markdown",
   "metadata": {},
   "source": [
    "---\n",
    "\n",
    "## 2. Circle Heatmaps\n",
    "\n",
    "The `circle_heatmap()` function creates scatter-based heatmaps with distinctive double-layer markers, supporting both categorical and continuous color mapping."
   ]
  },
  {
   "cell_type": "markdown",
   "metadata": {},
   "source": [
    "### Example 2.1: Basic Circle Heatmap with Categorical Colors"
   ]
  },
  {
   "cell_type": "code",
   "execution_count": null,
   "metadata": {},
   "outputs": [],
   "source": [
    "# Create sample enrichment data\n",
    "heatmap_data = pd.DataFrame({\n",
    "    'pathway': ['Pathway A', 'Pathway A', 'Pathway A', \n",
    "                'Pathway B', 'Pathway B', 'Pathway B',\n",
    "                'Pathway C', 'Pathway C', 'Pathway C'],\n",
    "    'condition': ['Ctrl', 'Treatment 1', 'Treatment 2'] * 3,\n",
    "    'neg_log10_pval': [1.5, 3.2, 4.5, 2.1, 5.3, 6.8, 0.8, 2.5, 3.9],\n",
    "    'category': ['Metabolism', 'Metabolism', 'Metabolism',\n",
    "                 'Signaling', 'Signaling', 'Signaling',\n",
    "                 'Transport', 'Transport', 'Transport']\n",
    "})\n",
    "\n",
    "# Create circle heatmap\n",
    "ax, cbar = pp.circle_heatmap(\n",
    "    data=heatmap_data,\n",
    "    x='condition',\n",
    "    y='pathway',\n",
    "    size='neg_log10_pval',\n",
    "    hue='category',\n",
    "    title='Pathway Enrichment Analysis',\n",
    "    xlabel='Condition',\n",
    "    ylabel='Pathway',\n",
    "    size_legend_title='-log10(p-value)',\n",
    "    palette={'Metabolism': '#E8A0BF', 'Signaling': '#BA90C6', 'Transport': '#C0DBEA'},\n",
    "    figsize=(8, 5)\n",
    ")\n",
    "\n",
    "plt.show()"
   ]
  },
  {
   "cell_type": "markdown",
   "metadata": {},
   "source": [
    "### Example 2.2: Circle Heatmap with Continuous Color Scale"
   ]
  },
  {
   "cell_type": "code",
   "execution_count": null,
   "metadata": {},
   "outputs": [],
   "source": [
    "# Create gene expression data\n",
    "genes = ['GENE1', 'GENE2', 'GENE3', 'GENE4', 'GENE5']\n",
    "samples = ['Sample A', 'Sample B', 'Sample C', 'Sample D']\n",
    "\n",
    "np.random.seed(42)\n",
    "expression_data = []\n",
    "for gene in genes:\n",
    "    for sample in samples:\n",
    "        expression_data.append({\n",
    "            'gene': gene,\n",
    "            'sample': sample,\n",
    "            'log2fc': np.random.uniform(-3, 3),\n",
    "            'abs_effect': np.random.uniform(0.5, 5)\n",
    "        })\n",
    "\n",
    "expression_df = pd.DataFrame(expression_data)\n",
    "\n",
    "# Create circle heatmap with continuous color scale\n",
    "ax, cbar = pp.circle_heatmap(\n",
    "    data=expression_df,\n",
    "    x='sample',\n",
    "    y='gene',\n",
    "    size='abs_effect',\n",
    "    hue='log2fc',\n",
    "    hue_norm=(-3, 3),  # Enables continuous color mapping\n",
    "    palette='RdBu_r',  # Red-Blue diverging colormap\n",
    "    title='Gene Expression Heatmap',\n",
    "    xlabel='Sample',\n",
    "    ylabel='Gene',\n",
    "    size_legend_title='Effect Size',\n",
    "    hue_legend_title='log2(Fold Change)',\n",
    "    sizes=(100, 1000),\n",
    "    alpha=0.2,\n",
    "    figsize=(8, 6)\n",
    ")\n",
    "\n",
    "plt.show()"
   ]
  },
  {
   "cell_type": "markdown",
   "metadata": {},
   "source": [
    "### Example 2.3: Circle Heatmap with Grid and Custom Styling"
   ]
  },
  {
   "cell_type": "code",
   "execution_count": null,
   "metadata": {},
   "outputs": [],
   "source": [
    "# Create correlation-like data\n",
    "variables = ['Var1', 'Var2', 'Var3', 'Var4']\n",
    "np.random.seed(100)\n",
    "\n",
    "corr_data = []\n",
    "for i, var1 in enumerate(variables):\n",
    "    for j, var2 in enumerate(variables):\n",
    "        if i != j:  # Skip diagonal\n",
    "            corr_data.append({\n",
    "                'variable1': var1,\n",
    "                'variable2': var2,\n",
    "                'correlation': np.random.uniform(-1, 1),\n",
    "                'significance': np.random.uniform(0, 5)\n",
    "            })\n",
    "\n",
    "corr_df = pd.DataFrame(corr_data)\n",
    "\n",
    "# Create circle heatmap with grid\n",
    "ax, cbar = pp.circle_heatmap(\n",
    "    data=corr_df,\n",
    "    x='variable1',\n",
    "    y='variable2',\n",
    "    size='significance',\n",
    "    hue='correlation',\n",
    "    hue_norm=(-1, 1),\n",
    "    palette='coolwarm',\n",
    "    title='Correlation Matrix',\n",
    "    xlabel='Variable',\n",
    "    ylabel='Variable',\n",
    "    size_legend_title='-log10(p)',\n",
    "    hue_legend_title='Correlation',\n",
    "    grid=True,  # Add grid\n",
    "    grid_kws={'alpha': 0.3, 'linestyle': '--', 'linewidth': 0.5},\n",
    "    invert_y=False,  # Don't invert y-axis\n",
    "    alpha=0.15,\n",
    "    linewidth=2.5,\n",
    "    figsize=(7, 7)\n",
    ")\n",
    "\n",
    "plt.show()"
   ]
  },
  {
   "cell_type": "markdown",
   "metadata": {},
   "source": [
    "### Example 2.4: Large Circle Heatmap with Custom Ordering"
   ]
  },
  {
   "cell_type": "code",
   "execution_count": null,
   "metadata": {},
   "outputs": [],
   "source": [
    "# Create larger dataset\n",
    "tissues = ['Brain', 'Liver', 'Heart', 'Kidney', 'Lung', 'Muscle']\n",
    "treatments = ['T0', 'T1', 'T2', 'T3', 'T4']\n",
    "\n",
    "np.random.seed(200)\n",
    "large_data = []\n",
    "for tissue in tissues:\n",
    "    for treatment in treatments:\n",
    "        large_data.append({\n",
    "            'tissue': tissue,\n",
    "            'treatment': treatment,\n",
    "            'expression': np.random.uniform(1, 10),\n",
    "            'tissue_type': 'Neural' if tissue == 'Brain' else \n",
    "                          'Organ' if tissue in ['Liver', 'Heart', 'Kidney', 'Lung'] else 'Muscle'\n",
    "        })\n",
    "\n",
    "large_df = pd.DataFrame(large_data)\n",
    "\n",
    "# Create large circle heatmap with custom ordering\n",
    "ax, cbar = pp.circle_heatmap(\n",
    "    data=large_df,\n",
    "    x='treatment',\n",
    "    y='tissue',\n",
    "    size='expression',\n",
    "    hue='tissue_type',\n",
    "    y_order=['Brain', 'Heart', 'Lung', 'Liver', 'Kidney', 'Muscle'],  # Custom order\n",
    "    title='Tissue-Specific Expression',\n",
    "    xlabel='Time Point',\n",
    "    ylabel='Tissue',\n",
    "    size_legend_title='Expression',\n",
    "    palette={'Neural': '#FF6B6B', 'Organ': '#4ECDC4', 'Muscle': '#FFE66D'},\n",
    "    sizes=(50, 800),\n",
    "    alpha=0.25,\n",
    "    figsize=(8, 8)\n",
    ")\n",
    "\n",
    "plt.show()"
   ]
  },
  {
   "cell_type": "markdown",
   "metadata": {},
   "source": [
    "### Example 2.5: Circle Heatmap with Viridis Palette"
   ]
  },
  {
   "cell_type": "code",
   "execution_count": null,
   "metadata": {},
   "outputs": [],
   "source": [
    "# Create intensity data\n",
    "np.random.seed(300)\n",
    "proteins = [f'Protein{i}' for i in range(1, 7)]\n",
    "timepoints = ['0h', '2h', '4h', '8h', '12h', '24h']\n",
    "\n",
    "intensity_data = []\n",
    "for protein in proteins:\n",
    "    for time in timepoints:\n",
    "        intensity_data.append({\n",
    "            'protein': protein,\n",
    "            'time': time,\n",
    "            'intensity': np.random.uniform(5, 15),\n",
    "            'fold_change': np.random.uniform(0, 10)\n",
    "        })\n",
    "\n",
    "intensity_df = pd.DataFrame(intensity_data)\n",
    "\n",
    "# Create circle heatmap with viridis\n",
    "ax, cbar = pp.circle_heatmap(\n",
    "    data=intensity_df,\n",
    "    x='time',\n",
    "    y='protein',\n",
    "    size='fold_change',\n",
    "    hue='intensity',\n",
    "    hue_norm=(5, 15),\n",
    "    palette='viridis',\n",
    "    title='Protein Dynamics Over Time',\n",
    "    xlabel='Time',\n",
    "    ylabel='Protein',\n",
    "    size_legend_title='Fold Change',\n",
    "    hue_legend_title='Intensity',\n",
    "    alpha=0.2,\n",
    "    linewidth=2,\n",
    "    figsize=(10, 7),\n",
    "    cbar_kws={'shrink': 0.5, 'aspect': 10}\n",
    ")\n",
    "\n",
    "plt.show()"
   ]
  },
  {
   "cell_type": "markdown",
   "metadata": {},
   "source": [
    "---\n",
    "\n",
    "## 3. Venn Diagrams\n",
    "\n",
    "The `venn_diagram()` function creates 2-way or 3-way Venn diagrams with optional statistical analysis."
   ]
  },
  {
   "cell_type": "markdown",
   "metadata": {},
   "source": [
    "### Example 3.1: Simple 2-Way Venn Diagram"
   ]
  },
  {
   "cell_type": "code",
   "execution_count": null,
   "metadata": {},
   "outputs": [],
   "source": [
    "# Create two sample sets\n",
    "set1 = set(range(1, 51))  # 1-50\n",
    "set2 = set(range(30, 81)) # 30-80\n",
    "\n",
    "# Create 2-way Venn diagram\n",
    "fig, ax, stats = pp.venn_diagram(\n",
    "    sets=[set1, set2],\n",
    "    labels=['Group A', 'Group B'],\n",
    "    colors=pp.get_palette('pastel_categorical', n_colors=2),\n",
    "    alpha=0.4\n",
    ")\n",
    "\n",
    "print(\"\\nOverlap Statistics:\")\n",
    "print(f\"Set sizes: {stats['set_sizes']}\")\n",
    "print(f\"Overlap: {stats['overlap']}\")\n",
    "\n",
    "plt.show()"
   ]
  },
  {
   "cell_type": "markdown",
   "metadata": {},
   "source": [
    "### Example 3.2: 2-Way Venn with Statistical Testing"
   ]
  },
  {
   "cell_type": "code",
   "execution_count": null,
   "metadata": {},
   "outputs": [],
   "source": [
    "# Create sets with significant overlap\n",
    "genes_disease = set([f'GENE{i}' for i in range(1, 101)])  # 100 disease genes\n",
    "genes_pathway = set([f'GENE{i}' for i in range(50, 151)])  # 100 pathway genes\n",
    "\n",
    "# Create Venn diagram with statistical testing\n",
    "fig, ax, stats = pp.venn_diagram(\n",
    "    sets={'Disease Genes': genes_disease, 'Pathway Genes': genes_pathway},\n",
    "    universe_size=20000,  # Total number of genes in genome\n",
    "    colors=['#FFB3BA', '#BAE1FF'],\n",
    "    alpha=0.5,\n",
    "    figsize=(10, 7)\n",
    ")\n",
    "\n",
    "print(\"\\nStatistical Analysis:\")\n",
    "print(f\"Overlap: {stats['overlap']}\")\n",
    "print(f\"Expected overlap: {stats['expected_overlap']:.2f}\")\n",
    "print(f\"Fold enrichment: {stats['fold_enrichment']:.2f}x\")\n",
    "print(f\"P-value: {stats['p_value']:.2e}\")\n",
    "print(f\"Significant: {stats['significant']}\")\n",
    "\n",
    "plt.show()"
   ]
  },
  {
   "cell_type": "markdown",
   "metadata": {},
   "source": [
    "### Example 3.3: Simple 3-Way Venn Diagram"
   ]
  },
  {
   "cell_type": "code",
   "execution_count": null,
   "metadata": {},
   "outputs": [],
   "source": [
    "# Create three sample sets\n",
    "setA = set(range(1, 61))   # 1-60\n",
    "setB = set(range(40, 101)) # 40-100\n",
    "setC = set(range(70, 131)) # 70-130\n",
    "\n",
    "# Create 3-way Venn diagram\n",
    "fig, ax, stats = pp.venn_diagram(\n",
    "    sets=[setA, setB, setC],\n",
    "    labels=['Set A', 'Set B', 'Set C'],\n",
    "    colors=pp.get_palette('pastel_categorical', n_colors=3),\n",
    "    alpha=0.35,\n",
    "    figsize=(11, 7)\n",
    ")\n",
    "\n",
    "print(\"\\n3-Way Overlap Statistics:\")\n",
    "print(f\"Set sizes: {stats['set_sizes']}\")\n",
    "print(f\"Triple overlap: {stats['triple_overlap']}\")\n",
    "print(f\"Unique counts: {stats['unique_counts']}\")\n",
    "print(f\"Pairwise overlaps: {stats['pairwise_overlaps']}\")\n",
    "\n",
    "plt.show()"
   ]
  },
  {
   "cell_type": "markdown",
   "metadata": {},
   "source": [
    "### Example 3.4: 3-Way Venn with Statistical Testing"
   ]
  },
  {
   "cell_type": "code",
   "execution_count": null,
   "metadata": {},
   "outputs": [],
   "source": [
    "# Create biological example: transcription factor binding sites\n",
    "tf1_targets = set([f'GENE{i}' for i in range(1, 201)])    # 200 genes\n",
    "tf2_targets = set([f'GENE{i}' for i in range(100, 301)])  # 200 genes\n",
    "tf3_targets = set([f'GENE{i}' for i in range(150, 351)])  # 200 genes\n",
    "\n",
    "# Create 3-way Venn with statistics\n",
    "fig, ax, stats = pp.venn_diagram(\n",
    "    sets={'TF1': tf1_targets, 'TF2': tf2_targets, 'TF3': tf3_targets},\n",
    "    universe_size=20000,\n",
    "    colors=['#FFAAA5', '#FFD3B6', '#A8E6CF'],\n",
    "    alpha=0.4,\n",
    "    figsize=(12, 8)\n",
    ")\n",
    "\n",
    "print(\"\\nTranscription Factor Overlap Analysis:\")\n",
    "print(f\"Triple overlap: {stats['triple_overlap']}\")\n",
    "print(f\"Expected triple overlap: {stats['expected_triple_overlap']:.2f}\")\n",
    "print(f\"Fold enrichment: {stats['fold_enrichment']:.2f}x\")\n",
    "print(f\"P-value: {stats['p_value']:.2e}\")\n",
    "\n",
    "plt.show()"
   ]
  },
  {
   "cell_type": "markdown",
   "metadata": {},
   "source": [
    "### Example 3.5: Weighted vs Unweighted Venn Diagrams"
   ]
  },
  {
   "cell_type": "code",
   "execution_count": null,
   "metadata": {},
   "outputs": [],
   "source": [
    "# Create sets with very different sizes\n",
    "small_set = set(range(1, 21))      # 20 elements\n",
    "medium_set = set(range(15, 66))    # 50 elements\n",
    "large_set = set(range(50, 201))    # 150 elements\n",
    "\n",
    "# Create side-by-side comparison\n",
    "fig, (ax1, ax2) = plt.subplots(1, 2, figsize=(16, 6))\n",
    "\n",
    "# Unweighted (equal areas)\n",
    "fig, ax1, stats1 = pp.venn_diagram(\n",
    "    sets=[small_set, medium_set, large_set],\n",
    "    labels=['Small (20)', 'Medium (50)', 'Large (150)'],\n",
    "    weighted=False,\n",
    "    colors=['#FF6B6B', '#4ECDC4', '#45B7D1'],\n",
    "    alpha=0.35,\n",
    "    ax=ax1\n",
    ")\n",
    "ax1.set_title('Unweighted (Equal Areas)', fontsize=14, fontweight='bold')\n",
    "\n",
    "# Weighted (proportional to set sizes)\n",
    "fig, ax2, stats2 = pp.venn_diagram(\n",
    "    sets=[small_set, medium_set, large_set],\n",
    "    labels=['Small (20)', 'Medium (50)', 'Large (150)'],\n",
    "    weighted=True,\n",
    "    colors=['#FF6B6B', '#4ECDC4', '#45B7D1'],\n",
    "    alpha=0.35,\n",
    "    ax=ax2\n",
    ")\n",
    "ax2.set_title('Weighted (Proportional Areas)', fontsize=14, fontweight='bold')\n",
    "\n",
    "plt.tight_layout()\n",
    "plt.show()\n",
    "\n",
    "print(\"\\nNote: Unweighted layouts show all regions with equal area,\")\n",
    "print(\"while weighted layouts scale regions proportional to set sizes.\")"
   ]
  },
  {
   "cell_type": "markdown",
   "metadata": {},
   "source": [
    "---\n",
    "\n",
    "## Summary\n",
    "\n",
    "This notebook demonstrated:\n",
    "\n",
    "### Bar Plots\n",
    "- Simple bar plots with single categories\n",
    "- Bar plots with error bars (standard error/deviation)\n",
    "- Grouped bar plots with hue parameter\n",
    "- Split bar plots with hatch patterns\n",
    "- Custom ordering and transparency settings\n",
    "\n",
    "### Circle Heatmaps\n",
    "- Basic categorical color mapping\n",
    "- Continuous color scales with colorbars\n",
    "- Grid styling and customization\n",
    "- Custom ordering and large datasets\n",
    "- Various color palettes (RdBu_r, coolwarm, viridis)\n",
    "\n",
    "### Venn Diagrams\n",
    "- 2-way and 3-way Venn diagrams\n",
    "- Statistical significance testing\n",
    "- Weighted vs unweighted layouts\n",
    "- Custom colors and transparency\n",
    "- Using dictionaries for labeled sets\n",
    "\n",
    "For more information, see the [PrettyPlot documentation](https://github.com/jorgebotas/prettyplot)."
   ]
  }
 ],
 "metadata": {
  "kernelspec": {
   "display_name": "Python (prettyplot)",
   "language": "python",
   "name": "prettyplot"
  },
  "language_info": {
   "codemirror_mode": {
    "name": "ipython",
    "version": 3
   },
   "file_extension": ".py",
   "mimetype": "text/x-python",
   "name": "python",
   "nbconvert_exporter": "python",
   "pygments_lexer": "ipython3",
   "version": "3.11.0"
  }
 },
 "nbformat": 4,
 "nbformat_minor": 4
}
